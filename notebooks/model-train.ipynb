{
 "cells": [
  {
   "cell_type": "code",
   "execution_count": 1,
   "id": "699cbf6e",
   "metadata": {},
   "outputs": [],
   "source": [
    "import sys\n",
    "import os\n",
    "\n",
    "# Add the project root (one level up from src) to sys.path\n",
    "sys.path.append(os.path.abspath(\"..\"))\n",
    "import pandas as pd\n",
    "from sklearn.linear_model import LogisticRegression\n",
    "from sklearn.ensemble import RandomForestClassifier"
   ]
  },
  {
   "cell_type": "code",
   "execution_count": 2,
   "id": "10d0a16c",
   "metadata": {},
   "outputs": [
    {
     "name": "stdout",
     "output_type": "stream",
     "text": [
      "Data loaded. Shape: (3742, 21)\n",
      "Data split completed.\n"
     ]
    }
   ],
   "source": [
    "# Load and Split Data\n",
    "from src.train import ModelTrainer\n",
    "trainer = ModelTrainer(\"../data/processed/proxy_target.csv\")\n",
    "trainer.load_data()\n",
    "trainer.split_data()"
   ]
  },
  {
   "cell_type": "code",
   "execution_count": 3,
   "id": "b4ffe07f",
   "metadata": {},
   "outputs": [
    {
     "name": "stdout",
     "output_type": "stream",
     "text": [
      "Best params: {'C': 1, 'penalty': 'l2', 'solver': 'liblinear'}\n",
      "Best score: 0.5942067736185384\n"
     ]
    },
    {
     "name": "stderr",
     "output_type": "stream",
     "text": [
      "2025/07/01 21:48:13 WARNING mlflow.models.model: `artifact_path` is deprecated. Please use `name` instead.\n"
     ]
    },
    {
     "name": "stdout",
     "output_type": "stream",
     "text": [
      "Best params: {'max_depth': None, 'min_samples_split': 2, 'n_estimators': 200}\n",
      "Best score: 0.8108359133126936\n"
     ]
    },
    {
     "name": "stderr",
     "output_type": "stream",
     "text": [
      "2025/07/01 21:48:27 WARNING mlflow.models.model: Model logged without a signature and input example. Please set `input_example` parameter when logging the model to auto infer the model signature.\n",
      "2025/07/01 21:48:28 WARNING mlflow.models.model: `artifact_path` is deprecated. Please use `name` instead.\n"
     ]
    },
    {
     "name": "stdout",
     "output_type": "stream",
     "text": [
      "Evaluation Metrics:\n",
      "Accuracy: 0.9879839786381842\n",
      "Precision: 0.45454545454545453\n",
      "Recall: 0.625\n",
      "F1 Score: 0.5263157894736842\n",
      "ROC AUC: 0.9936740890688259\n"
     ]
    },
    {
     "name": "stderr",
     "output_type": "stream",
     "text": [
      "2025/07/01 21:48:38 WARNING mlflow.models.model: Model logged without a signature and input example. Please set `input_example` parameter when logging the model to auto infer the model signature.\n"
     ]
    },
    {
     "name": "stdout",
     "output_type": "stream",
     "text": [
      "Evaluation Metrics:\n",
      "Accuracy: 0.9893190921228304\n",
      "Precision: 0.5\n",
      "Recall: 0.375\n",
      "F1 Score: 0.42857142857142855\n",
      "ROC AUC: 0.9914811066126856\n"
     ]
    }
   ],
   "source": [
    "# Logistic Regression Tuning\n",
    "log_params = {\n",
    "    \"C\": [0.01, 0.1, 1, 10],\n",
    "    \"penalty\": [\"l2\"],\n",
    "    \"solver\": [\"liblinear\"]\n",
    "}\n",
    "best_log_model = trainer.tune_model(LogisticRegression(random_state=42), log_params)\n",
    "\n",
    "# Random Forest Tuning\n",
    "rf_params = {\n",
    "    \"n_estimators\": [50, 100, 200],\n",
    "    \"max_depth\": [None, 10, 20],\n",
    "    \"min_samples_split\": [2, 5],\n",
    "}\n",
    "best_rf_model = trainer.tune_model(RandomForestClassifier(random_state=42), rf_params)\n",
    "\n",
    "# Log best models\n",
    "trainer.log_model(best_log_model, \"logistic_regression_tuned\")\n",
    "trainer.log_model(best_rf_model, \"random_forest_tuned\")"
   ]
  },
  {
   "cell_type": "code",
   "execution_count": 4,
   "id": "4cae65e4",
   "metadata": {},
   "outputs": [
    {
     "name": "stderr",
     "output_type": "stream",
     "text": [
      "2025/07/01 21:48:39 WARNING mlflow.models.model: `artifact_path` is deprecated. Please use `name` instead.\n"
     ]
    },
    {
     "name": "stdout",
     "output_type": "stream",
     "text": [
      "Run ID: c8d1d57fd54c4f43bfaf1d4b3568aedc\n"
     ]
    },
    {
     "name": "stderr",
     "output_type": "stream",
     "text": [
      "2025/07/01 21:48:49 WARNING mlflow.models.model: Model logged without a signature and input example. Please set `input_example` parameter when logging the model to auto infer the model signature.\n"
     ]
    },
    {
     "name": "stdout",
     "output_type": "stream",
     "text": [
      "Evaluation Metrics:\n",
      "Accuracy: 0.9879839786381842\n",
      "Precision: 0.45454545454545453\n",
      "Recall: 0.625\n",
      "F1 Score: 0.5263157894736842\n",
      "ROC AUC: 0.9936740890688259\n"
     ]
    }
   ],
   "source": [
    "import mlflow\n",
    "\n",
    "# End any currently active run\n",
    "if mlflow.active_run() is not None:\n",
    "    mlflow.end_run()\n",
    "\n",
    "with mlflow.start_run() as run:\n",
    "    print(\"Run ID:\", run.info.run_id)\n",
    "\n",
    "    # Your training, tuning, and logging goes here\n",
    "    trainer.log_model(best_log_model, \"logistic_regression_tuned\")"
   ]
  },
  {
   "cell_type": "code",
   "execution_count": 5,
   "id": "2008d088",
   "metadata": {},
   "outputs": [
    {
     "name": "stderr",
     "output_type": "stream",
     "text": [
      "Successfully registered model 'credit_risk_model'.\n",
      "2025/07/01 21:48:49 WARNING mlflow.tracking._model_registry.fluent: Run with id 27abc8cbf6274a0babc99b7af60bccfb has no artifacts at artifact path 'logistic_regression_tuned', registering model based on models:/m-cde4587b48b94c6bb60935fb5579bff1 instead\n",
      "Created version '1' of model 'credit_risk_model'.\n"
     ]
    },
    {
     "name": "stdout",
     "output_type": "stream",
     "text": [
      "Registered model name: credit_risk_model\n",
      "Model version: 1\n"
     ]
    }
   ],
   "source": [
    "run_id = \"27abc8cbf6274a0babc99b7af60bccfb\"\n",
    "model_name = \"credit_risk_model\"\n",
    "\n",
    "# Update this to match how you logged your logistic regression model artifact\n",
    "model_uri = f\"runs:/{run_id}/logistic_regression_tuned\"  \n",
    "\n",
    "result = mlflow.register_model(model_uri=model_uri, name=model_name)\n",
    "\n",
    "print(f\"Registered model name: {result.name}\")\n",
    "print(f\"Model version: {result.version}\")\n"
   ]
  },
  {
   "cell_type": "code",
   "execution_count": 6,
   "id": "f590b6bd",
   "metadata": {},
   "outputs": [
    {
     "ename": "AttributeError",
     "evalue": "'MlflowClient' object has no attribute 'list_registered_models'",
     "output_type": "error",
     "traceback": [
      "\u001b[31m---------------------------------------------------------------------------\u001b[39m",
      "\u001b[31mAttributeError\u001b[39m                            Traceback (most recent call last)",
      "\u001b[36mCell\u001b[39m\u001b[36m \u001b[39m\u001b[32mIn[6]\u001b[39m\u001b[32m, line 4\u001b[39m\n\u001b[32m      1\u001b[39m \u001b[38;5;28;01mfrom\u001b[39;00m\u001b[38;5;250m \u001b[39m\u001b[34;01mmlflow\u001b[39;00m\u001b[34;01m.\u001b[39;00m\u001b[34;01mtracking\u001b[39;00m\u001b[38;5;250m \u001b[39m\u001b[38;5;28;01mimport\u001b[39;00m MlflowClient\n\u001b[32m      3\u001b[39m client = MlflowClient()\n\u001b[32m----> \u001b[39m\u001b[32m4\u001b[39m \u001b[38;5;28mprint\u001b[39m(\u001b[43mclient\u001b[49m\u001b[43m.\u001b[49m\u001b[43mlist_registered_models\u001b[49m())  \u001b[38;5;66;03m# Should work now\u001b[39;00m\n",
      "\u001b[31mAttributeError\u001b[39m: 'MlflowClient' object has no attribute 'list_registered_models'"
     ]
    }
   ],
   "source": [
    "from mlflow.tracking import MlflowClient\n",
    "\n",
    "client = MlflowClient()\n",
    "print(client.list_registered_models())  # Should work now\n"
   ]
  }
 ],
 "metadata": {
  "kernelspec": {
   "display_name": ".venv",
   "language": "python",
   "name": "python3"
  },
  "language_info": {
   "codemirror_mode": {
    "name": "ipython",
    "version": 3
   },
   "file_extension": ".py",
   "mimetype": "text/x-python",
   "name": "python",
   "nbconvert_exporter": "python",
   "pygments_lexer": "ipython3",
   "version": "3.12.7"
  }
 },
 "nbformat": 4,
 "nbformat_minor": 5
}
